{
 "cells": [
  {
   "cell_type": "code",
   "execution_count": 1,
   "id": "6aa31b53",
   "metadata": {},
   "outputs": [],
   "source": [
    "import numpy as np\n",
    "import pandas as pd\n",
    "import datetime\n",
    "import random\n",
    "import tensorflow as tf\n",
    "import matplotlib.pyplot as plt\n",
    "from tensorflow.keras import backend as K\n",
    "from tensorflow.keras.models import Sequential\n",
    "from tensorflow.keras.layers import LSTM, Dense, TimeDistributed, Flatten, Dropout"
   ]
  },
  {
   "cell_type": "code",
   "execution_count": 2,
   "id": "6e808a48",
   "metadata": {},
   "outputs": [],
   "source": [
    "# air_reserve = pd.read_csv('air_reserve.csv')\n",
    "# air_store_info = pd.read_csv('air_store_info.csv')\n",
    "air_visit_data = pd.read_csv('air_visit_data.csv')\n",
    "# date_info = pd.read_csv('date_info.csv')\n",
    "# hpg_reserve = pd.read_csv('hpg_reserve.csv')\n",
    "# hpg_store_info = pd.read_csv('hpg_store_info.csv')\n",
    "# store_id_relation = pd.read_csv('store_id_relation.csv')"
   ]
  },
  {
   "cell_type": "code",
   "execution_count": 3,
   "id": "b06178da",
   "metadata": {},
   "outputs": [],
   "source": [
    "def load(predict_day = 1, past_day = 5):\n",
    "    # load data\n",
    "    avd = air_visit_data.to_numpy()\n",
    "    years = np.array([int(row[1].split('/')[0]) for row in avd])\n",
    "    mask_2016 = years == 2016\n",
    "    avd_train = avd[mask_2016]\n",
    "    avd_test = avd[~mask_2016]\n",
    "    \n",
    "    start_time_16 = datetime.datetime.strptime('2016/1/1', '%Y/%m/%d').timestamp()\n",
    "    end_time_16 = datetime.datetime.strptime('2016/12/31', '%Y/%m/%d').timestamp()\n",
    "    start_time_17 = datetime.datetime.strptime('2017/1/1', '%Y/%m/%d').timestamp()\n",
    "    end_time_17 = datetime.datetime.strptime('2017/12/31', '%Y/%m/%d').timestamp()\n",
    "    \n",
    "    for i in range(avd_train.shape[0]):\n",
    "        s_date = datetime.datetime.strptime(avd_train[i, 1], '%Y/%m/%d')\n",
    "        avd_train[i,1] = (s_date.timestamp() - start_time_16) / (end_time_16 - start_time_16)\n",
    "    for i in range(avd_test.shape[0]):\n",
    "        s_date = datetime.datetime.strptime(avd_test[i, 1], '%Y/%m/%d')\n",
    "        avd_test[i,1] = (s_date.timestamp() - start_time_17) / (end_time_17 - start_time_17)\n",
    "            \n",
    "    X_train = []\n",
    "    X_test = []\n",
    "    Y_train = []\n",
    "    Y_test = []\n",
    "    \n",
    "    for i in range(avd_train.shape[0]-predict_day-past_day):\n",
    "        X_train.append(avd_train[i:i+past_day, 1])\n",
    "        Y_train.append(avd_train[i+past_day:i+past_day+predict_day, 2])\n",
    "    for i in range(avd_test.shape[0]-predict_day-past_day):\n",
    "        X_test.append(avd_test[i:i+past_day, 1])\n",
    "        Y_test.append(avd_test[i+past_day:i+past_day+predict_day, 2])\n",
    "    \n",
    "    xtr = tf.constant(np.array(X_train), dtype=tf.float32)\n",
    "    ytr = tf.constant(np.array(Y_train), dtype=tf.int32)\n",
    "    xte = tf.constant(np.array(X_test), dtype=tf.float32)\n",
    "    yte = tf.constant(np.array(Y_test), dtype=tf.int32)\n",
    "    \n",
    "    return xtr, ytr, xte, yte"
   ]
  },
  {
   "cell_type": "code",
   "execution_count": 4,
   "id": "8406802b",
   "metadata": {},
   "outputs": [],
   "source": [
    "def rmsle(y_true, y_pred):\n",
    "    return K.sqrt(K.mean(K.square(K.log(y_pred + 1) - K.log(y_true + 1)), axis=-1))"
   ]
  },
  {
   "cell_type": "code",
   "execution_count": 41,
   "id": "fe857fb0",
   "metadata": {},
   "outputs": [],
   "source": [
    "def build_lstm_model():\n",
    "    model = Sequential()\n",
    "    model.add(LSTM(16, input_shape=(5,1), return_sequences=True))\n",
    "    model.add(TimeDistributed(Dense(1)))\n",
    "    model.add(Flatten())\n",
    "    model.add(Dense(5,activation='linear'))\n",
    "    model.compile(loss=\"mean_absolute_error\", optimizer=\"adam\",metrics=[rmsle])\n",
    "    model.summary()\n",
    "    return model"
   ]
  },
  {
   "cell_type": "code",
   "execution_count": 6,
   "id": "54514fa5",
   "metadata": {},
   "outputs": [],
   "source": [
    "# read\n",
    "X_train, Y_train, X_test, Y_test = load()"
   ]
  },
  {
   "cell_type": "code",
   "execution_count": 51,
   "id": "8a6d8946",
   "metadata": {},
   "outputs": [
    {
     "name": "stdout",
     "output_type": "stream",
     "text": [
      "Model: \"sequential_9\"\n",
      "_________________________________________________________________\n",
      " Layer (type)                Output Shape              Param #   \n",
      "=================================================================\n",
      " lstm_9 (LSTM)               (None, 5, 16)             1152      \n",
      "                                                                 \n",
      " time_distributed_9 (TimeDis  (None, 5, 1)             17        \n",
      " tributed)                                                       \n",
      "                                                                 \n",
      " flatten_9 (Flatten)         (None, 5)                 0         \n",
      "                                                                 \n",
      " dense_19 (Dense)            (None, 5)                 30        \n",
      "                                                                 \n",
      "=================================================================\n",
      "Total params: 1,199\n",
      "Trainable params: 1,199\n",
      "Non-trainable params: 0\n",
      "_________________________________________________________________\n"
     ]
    }
   ],
   "source": [
    "model = build_lstm_model()"
   ]
  },
  {
   "cell_type": "code",
   "execution_count": 52,
   "id": "0cbd793e",
   "metadata": {},
   "outputs": [
    {
     "name": "stdout",
     "output_type": "stream",
     "text": [
      "Epoch 1/5\n",
      "1364/1364 - 15s - loss: 12.9661 - rmsle: 0.8081 - val_loss: 12.1973 - val_rmsle: 0.6585 - 15s/epoch - 11ms/step\n",
      "Epoch 2/5\n",
      "1364/1364 - 12s - loss: 12.0495 - rmsle: 0.6443 - val_loss: 12.1842 - val_rmsle: 0.6575 - 12s/epoch - 9ms/step\n",
      "Epoch 3/5\n",
      "1364/1364 - 14s - loss: 12.0452 - rmsle: 0.6440 - val_loss: 12.1863 - val_rmsle: 0.6575 - 14s/epoch - 11ms/step\n",
      "Epoch 4/5\n",
      "1364/1364 - 17s - loss: 12.0429 - rmsle: 0.6439 - val_loss: 12.1843 - val_rmsle: 0.6574 - 17s/epoch - 13ms/step\n",
      "Epoch 5/5\n",
      "1364/1364 - 17s - loss: 12.0418 - rmsle: 0.6438 - val_loss: 12.1859 - val_rmsle: 0.6575 - 17s/epoch - 13ms/step\n"
     ]
    }
   ],
   "source": [
    "# train model\n",
    "history = model.fit(X_train, Y_train, epochs=5, batch_size = 128, validation_data=(X_test,Y_test), verbose=2)"
   ]
  },
  {
   "cell_type": "code",
   "execution_count": 53,
   "id": "1661add4",
   "metadata": {},
   "outputs": [
    {
     "name": "stdout",
     "output_type": "stream",
     "text": [
      "2424/2424 [==============================] - 14s 5ms/step\n"
     ]
    }
   ],
   "source": [
    "# predict\n",
    "prediction = model.predict(X_test)"
   ]
  },
  {
   "cell_type": "code",
   "execution_count": 54,
   "id": "fc9ab346",
   "metadata": {},
   "outputs": [
    {
     "name": "stdout",
     "output_type": "stream",
     "text": [
      "Train Loss: 12.2291\n",
      "Train RMSLE: 0.6768\n",
      "2424/2424 [==============================] - 14s 6ms/step - loss: 12.1859 - rmsle: 0.6575\n",
      "Test Loss: 12.1859\n",
      "Test RMSLE: 0.6575\n"
     ]
    }
   ],
   "source": [
    "# train\n",
    "loss_mean = np.mean(history.history['loss'])\n",
    "rmsle_mean = np.mean(history.history['rmsle'])\n",
    "print('Train Loss: {:.4f}'.format(loss_mean))\n",
    "print('Train RMSLE: {:.4f}'.format(rmsle_mean))\n",
    "# test\n",
    "test_loss, test_acc = model.evaluate(X_test, Y_test)\n",
    "print('Test Loss: {:.4f}'.format(test_loss))\n",
    "print('Test RMSLE: {:.4f}'.format(test_acc))"
   ]
  },
  {
   "cell_type": "code",
   "execution_count": 55,
   "id": "3a7455da",
   "metadata": {},
   "outputs": [
    {
     "data": {
      "image/png": "[encoded data removed]",
      "text/plain": [
       "<Figure size 640x480 with 1 Axes>"
      ]
     },
     "metadata": {},
     "output_type": "display_data"
    },
    {
     "data": {
      "image/png": "[encoded data removed]",
      "text/plain": [
       "<Figure size 640x480 with 1 Axes>"
      ]
     },
     "metadata": {},
     "output_type": "display_data"
    }
   ],
   "source": [
    "plt.plot(Y_test, label=\"Y_test\")\n",
    "plt.plot(prediction, label = \"prediction\")\n",
    "plt.legend(loc='lower right')\n",
    "plt.show()\n",
    "plt.plot(history.history['loss'], label = 'loss')\n",
    "plt.plot(history.history['rmsle'], label = 'rmsle')\n",
    "plt.legend(loc='lower right')\n",
    "plt.show()"
   ]
  },
  {
   "cell_type": "code",
   "execution_count": 18,
   "id": "5e5b2c9d",
   "metadata": {},
   "outputs": [
    {
     "name": "stdout",
     "output_type": "stream",
     "text": [
      "16\n",
      "5\n"
     ]
    }
   ],
   "source": [
    "for layer in model.layers:\n",
    "    if hasattr(layer, 'units'):\n",
    "        print(layer.units)"
   ]
  }
 ],
 "metadata": {
  "kernelspec": {
   "display_name": "Python 3 (ipykernel)",
   "language": "python",
   "name": "python3"
  },
  "language_info": {
   "codemirror_mode": {
    "name": "ipython",
    "version": 3
   },
   "file_extension": ".py",
   "mimetype": "text/x-python",
   "name": "python",
   "nbconvert_exporter": "python",
   "pygments_lexer": "ipython3",
   "version": "3.8.16"
  }
 },
 "nbformat": 4,
 "nbformat_minor": 5
}
